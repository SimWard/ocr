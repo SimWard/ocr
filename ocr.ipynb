{
 "metadata": {
  "language_info": {
   "codemirror_mode": {
    "name": "ipython",
    "version": 3
   },
   "file_extension": ".py",
   "mimetype": "text/x-python",
   "name": "python",
   "nbconvert_exporter": "python",
   "pygments_lexer": "ipython3",
   "version": "3.7.10"
  },
  "orig_nbformat": 2,
  "kernelspec": {
   "name": "python3710jvsc74a57bd07e236cdde2ed801b293ddc844251db77d5d88e879c0c679309796201711d1caf",
   "display_name": "Python 3.7.10 64-bit ('ocr': conda)"
  }
 },
 "nbformat": 4,
 "nbformat_minor": 2,
 "cells": [
  {
   "cell_type": "code",
   "execution_count": 2,
   "metadata": {},
   "outputs": [],
   "source": [
    "import os\n",
    "import numpy as np\n",
    "import cv2\n",
    "import pytesseract as pt\n",
    "import pandas as pd\n",
    "\n",
    "pt.pytesseract.tesseract_cmd = r'C:\\\\Program Files\\\\Tesseract-OCR\\\\tesseract.exe'"
   ]
  },
  {
   "cell_type": "code",
   "execution_count": 41,
   "metadata": {
    "tags": []
   },
   "outputs": [],
   "source": [
    "# Cropping slicers\n",
    "x_crop = slice(1100,1400)\n",
    "y_crop = slice(90, 450)\n",
    "\n",
    "\n",
    "def read_images_from_folder(folder):\n",
    "    images = []\n",
    "    filenames = [] \n",
    "    for filename in os.listdir(folder):\n",
    "        img = cv2.imread(os.path.join(folder,filename))\n",
    "        if img is not None:\n",
    "            #images.append(pt.image_to_string(img))\n",
    "            images.append(img)\n",
    "            filenames.append(filename)\n",
    "    return images, filenames\n",
    "\n",
    "def read_img(img):\n",
    "    img = cv2.imread(img)\n",
    "    return pt.image_to_string(img)\n",
    "\n",
    "def parse_substats(string):\n",
    "    s = pd.Series(string.split('\\n'))\n",
    "    s = s[s.str.count(\"\\+\") == 2]\n",
    "    s = s.str.replace('[^0-9a-zA-Z\\+%. ]+', '', regex=True)\n",
    "    s = s.str.replace('\\+ ', '', regex=True).str.split('+')\n",
    "    s = pd.DataFrame(s.to_list(), columns=['substat','value'])\n",
    "    s['value'] = s['value'].str.replace('[^0-9.%]','', regex=True)\n",
    "    return s\n",
    "\n",
    "\n",
    "def convert_to_bw(image, dark_mode=True):\n",
    "    # Lower colours are black\n",
    "    # Higher colours are white\n",
    "\n",
    "    gray = cv2.cvtColor(image, cv2.COLOR_BGR2GRAY)\n",
    "\n",
    "    if dark_mode:\n",
    "        light, dark = 1, 0\n",
    "    else:\n",
    "        light, dark = 0, 1\n",
    "\n",
    "    for i in range(gray.shape[0]):\n",
    "        for j in range(gray.shape[1]):\n",
    "            if gray[i][j] > 150:\n",
    "                gray[i][j] = 255 * light\n",
    "            else:\n",
    "                gray[i][j] = 255 * dark\n",
    "                \n",
    "    return gray        "
   ]
  },
  {
   "cell_type": "code",
   "execution_count": 69,
   "metadata": {},
   "outputs": [
    {
     "output_type": "stream",
     "name": "stdout",
     "text": [
      "Gladiator's\nNostalgia .\nFlower of Life ,\n\nwo. 1 4, P80.\nkkk\n\n+20 -\n\n+ ATK+5.8%\n\n+ CRIT Rate+2.7% ..\n\n- Energy, Recharget16.2% .\n+ CRIT DMG+22,5% .\n\nGladiator's Finale:(2) -\ntA\n\n \n \n\f\n"
     ]
    }
   ],
   "source": [
    "img = 'img\\keqing-flower.png'\n",
    "original = cv2.imread(img)\n",
    "crop = original[y_crop, x_crop].copy()\n",
    "bw_dark = convert_to_bw(crop)\n",
    "bw_light = convert_to_bw(crop, dark_mode=False)\n",
    "print(pt.image_to_string(bw_dark))\n",
    "\n",
    "# cv2.imwrite('dil-fea-bw-dark.png', bw_dark)\n",
    "# cv2.imwrite('dil-fea-bw-light.png', bw_light)"
   ]
  },
  {
   "cell_type": "code",
   "execution_count": 51,
   "metadata": {},
   "outputs": [],
   "source": [
    "images, filenames = read_images_from_folder('img')"
   ]
  },
  {
   "cell_type": "code",
   "execution_count": 62,
   "metadata": {},
   "outputs": [
    {
     "output_type": "execute_result",
     "data": {
      "text/plain": [
       "                      original  cropped  bw_dark  bw_light      best\n",
       "diluc-circlet.png            3        1        4         4   bw_dark\n",
       "diluc-feather.png            3        3        1         3  original\n",
       "diluc-flower.png             4        4        4         3  original\n",
       "diluc-goblet.png             3        3        4         4   bw_dark\n",
       "diluc-hourglass.png          3        3        3         3  original\n",
       "keqing-circlet.png           1        4        3         2   cropped\n",
       "keqing-feather.png           4        4        4         4  original\n",
       "keqing-flower.png            0        4        3         4   cropped\n",
       "keqing-goblet.png            2        2        2         2  original\n",
       "keqing-hourglass.png         4        4        3         3  original"
      ],
      "text/html": "<div>\n<style scoped>\n    .dataframe tbody tr th:only-of-type {\n        vertical-align: middle;\n    }\n\n    .dataframe tbody tr th {\n        vertical-align: top;\n    }\n\n    .dataframe thead th {\n        text-align: right;\n    }\n</style>\n<table border=\"1\" class=\"dataframe\">\n  <thead>\n    <tr style=\"text-align: right;\">\n      <th></th>\n      <th>original</th>\n      <th>cropped</th>\n      <th>bw_dark</th>\n      <th>bw_light</th>\n      <th>best</th>\n    </tr>\n  </thead>\n  <tbody>\n    <tr>\n      <th>diluc-circlet.png</th>\n      <td>3</td>\n      <td>1</td>\n      <td>4</td>\n      <td>4</td>\n      <td>bw_dark</td>\n    </tr>\n    <tr>\n      <th>diluc-feather.png</th>\n      <td>3</td>\n      <td>3</td>\n      <td>1</td>\n      <td>3</td>\n      <td>original</td>\n    </tr>\n    <tr>\n      <th>diluc-flower.png</th>\n      <td>4</td>\n      <td>4</td>\n      <td>4</td>\n      <td>3</td>\n      <td>original</td>\n    </tr>\n    <tr>\n      <th>diluc-goblet.png</th>\n      <td>3</td>\n      <td>3</td>\n      <td>4</td>\n      <td>4</td>\n      <td>bw_dark</td>\n    </tr>\n    <tr>\n      <th>diluc-hourglass.png</th>\n      <td>3</td>\n      <td>3</td>\n      <td>3</td>\n      <td>3</td>\n      <td>original</td>\n    </tr>\n    <tr>\n      <th>keqing-circlet.png</th>\n      <td>1</td>\n      <td>4</td>\n      <td>3</td>\n      <td>2</td>\n      <td>cropped</td>\n    </tr>\n    <tr>\n      <th>keqing-feather.png</th>\n      <td>4</td>\n      <td>4</td>\n      <td>4</td>\n      <td>4</td>\n      <td>original</td>\n    </tr>\n    <tr>\n      <th>keqing-flower.png</th>\n      <td>0</td>\n      <td>4</td>\n      <td>3</td>\n      <td>4</td>\n      <td>cropped</td>\n    </tr>\n    <tr>\n      <th>keqing-goblet.png</th>\n      <td>2</td>\n      <td>2</td>\n      <td>2</td>\n      <td>2</td>\n      <td>original</td>\n    </tr>\n    <tr>\n      <th>keqing-hourglass.png</th>\n      <td>4</td>\n      <td>4</td>\n      <td>3</td>\n      <td>3</td>\n      <td>original</td>\n    </tr>\n  </tbody>\n</table>\n</div>"
     },
     "metadata": {},
     "execution_count": 62
    }
   ],
   "source": [
    "outputs = pd.DataFrame({\n",
    "    'original': original_outputs,\n",
    "    'cropped': cropped_outputs,\n",
    "    'bw_dark': bw_dark_outputs,\n",
    "    'bw_light': bw_light_outputs\n",
    "}, index=names)\n",
    "outputs['best'] = outputs.idxmax(axis=1)\n",
    "outputs"
   ]
  },
  {
   "cell_type": "code",
   "execution_count": 53,
   "metadata": {},
   "outputs": [],
   "source": [
    "img = 'img\\keqing-goblet.png'\n",
    "\n",
    "names = []\n",
    "original_outputs = []\n",
    "cropped_outputs = []\n",
    "bw_dark_outputs = []\n",
    "bw_light_outputs = []\n",
    "\n",
    "for i, n in zip(images, filenames):\n",
    "    # original = cv2.imread(i)\n",
    "    original = i\n",
    "    crop = original[y_crop, x_crop].copy()\n",
    "    bw_dark = convert_to_bw(crop, dark_mode=True)\n",
    "    bw_light = convert_to_bw(crop, dark_mode=False)\n",
    "\n",
    "    original_str = pt.image_to_string(original)\n",
    "    crop_str = pt.image_to_string(crop)\n",
    "    bw_dark_str = pt.image_to_string(bw_dark)\n",
    "    bw_light_str = pt.image_to_string(bw_light)\n",
    "\n",
    "    names.append(n)\n",
    "    original_outputs.append(parse_substats(original_str).shape[0])\n",
    "    cropped_outputs.append(parse_substats(crop_str).shape[0])\n",
    "    bw_dark_outputs.append(parse_substats(bw_dark_str).shape[0])\n",
    "    bw_light_outputs.append(parse_substats(bw_light_str).shape[0])\n",
    "\n",
    "    # print(f'---------{n}---------')\n",
    "    # print('\\n')\n",
    "    # print('----ORIGINAL----')\n",
    "    # # print(original_str)\n",
    "    # print(parse_substats(original_str))\n",
    "    # print('\\n')\n",
    "    # print('----CROPPED----')\n",
    "    # # print(crop_str)\n",
    "    # print(parse_substats(crop_str))\n",
    "    # print('\\n')\n",
    "    # print('----BLACK-WHITE----')\n",
    "    # # print(bw_str)\n",
    "    # print(parse_substats(bw_str))\n",
    "    # print('\\n\\n')\n",
    "    \n"
   ]
  }
 ]
}